{
 "cells": [
  {
   "cell_type": "code",
   "execution_count": 6,
   "metadata": {},
   "outputs": [],
   "source": [
    "import sqlite3\n",
    "import pandas as pd\n",
    "from Python_to_SQL import pd_to_sqlDB, sql_query_to_pd"
   ]
  },
  {
   "cell_type": "code",
   "execution_count": 7,
   "metadata": {},
   "outputs": [],
   "source": [
    "# Read a csv file into a DataFrame\n",
    "input_df =  pd.read_csv('housing.csv')"
   ]
  },
  {
   "cell_type": "code",
   "execution_count": 8,
   "metadata": {},
   "outputs": [
    {
     "name": "stderr",
     "output_type": "stream",
     "text": [
      "2023-08-25 08:16:47 INFO: SQL DB default.db created\n"
     ]
    },
    {
     "ename": "OperationalError",
     "evalue": "table housing already exists",
     "output_type": "error",
     "traceback": [
      "\u001b[1;31m---------------------------------------------------------------------------\u001b[0m",
      "\u001b[1;31mOperationalError\u001b[0m                          Traceback (most recent call last)",
      "Cell \u001b[1;32mIn[8], line 2\u001b[0m\n\u001b[0;32m      1\u001b[0m \u001b[39m# Upload the dataframe to a SQL Table\u001b[39;00m\n\u001b[1;32m----> 2\u001b[0m pd_to_sqlDB(input_df,\n\u001b[0;32m      3\u001b[0m             table_name\u001b[39m=\u001b[39;49m\u001b[39m'\u001b[39;49m\u001b[39mhousing\u001b[39;49m\u001b[39m'\u001b[39;49m,\n\u001b[0;32m      4\u001b[0m             db_name\u001b[39m=\u001b[39;49m\u001b[39m'\u001b[39;49m\u001b[39mdefault.db\u001b[39;49m\u001b[39m'\u001b[39;49m)\n",
      "File \u001b[1;32mc:\\Users\\kmmn555\\OneDrive - AZCollaboration\\Desktop\\Projects\\Personal Development\\SQL\\Python_to_SQL.py:37\u001b[0m, in \u001b[0;36mpd_to_sqlDB\u001b[1;34m(input_df, table_name, db_name)\u001b[0m\n\u001b[0;32m     35\u001b[0m \u001b[39m# Create Table\u001b[39;00m\n\u001b[0;32m     36\u001b[0m sql_string \u001b[39m=\u001b[39m \u001b[39mf\u001b[39m\u001b[39m\"\u001b[39m\u001b[39mCREATE TABLE \u001b[39m\u001b[39m{\u001b[39;00mtable_name\u001b[39m}\u001b[39;00m\u001b[39m (\u001b[39m\u001b[39m{\u001b[39;00mcols_string\u001b[39m}\u001b[39;00m\u001b[39m);\u001b[39m\u001b[39m\"\u001b[39m\n\u001b[1;32m---> 37\u001b[0m cur\u001b[39m.\u001b[39mexecute(sql_string)\n\u001b[0;32m     38\u001b[0m logging\u001b[39m.\u001b[39minfo(\u001b[39mf\u001b[39m\u001b[39m\"\u001b[39m\u001b[39mSQL Table \u001b[39m\u001b[39m{\u001b[39;00mtable_name\u001b[39m}\u001b[39;00m\u001b[39m created with \u001b[39m\u001b[39m{\u001b[39;00m\u001b[39mlen\u001b[39m(cols)\u001b[39m}\u001b[39;00m\u001b[39m columns\u001b[39m\u001b[39m\"\u001b[39m)\n\u001b[0;32m     40\u001b[0m \u001b[39m# Upload the DataFrame\u001b[39;00m\n",
      "\u001b[1;31mOperationalError\u001b[0m: table housing already exists"
     ]
    }
   ],
   "source": [
    "# Upload the dataframe to a SQL Table\n",
    "pd_to_sqlDB(input_df,\n",
    "            table_name='housing2',\n",
    "            db_name='default.db')\n"
   ]
  },
  {
   "cell_type": "code",
   "execution_count": null,
   "metadata": {},
   "outputs": [],
   "source": [
    "# Write the SQL query in a string variable\n",
    "sql_query_string = \"\"\"\n",
    "    SELECT *\n",
    "    FROM \n",
    "    WHERE\n",
    "\"\"\""
   ]
  },
  {
   "cell_type": "code",
   "execution_count": null,
   "metadata": {},
   "outputs": [],
   "source": [
    "# Execute the SQL query\n",
    "result_df = sql_query_to_pd(sql_query_string, db_name='default.db')"
   ]
  },
  {
   "cell_type": "code",
   "execution_count": null,
   "metadata": {},
   "outputs": [],
   "source": [
    "# View results\n",
    "result_df.head()"
   ]
  }
 ],
 "metadata": {
  "kernelspec": {
   "display_name": "Python 3",
   "language": "python",
   "name": "python3"
  },
  "language_info": {
   "codemirror_mode": {
    "name": "ipython",
    "version": 3
   },
   "file_extension": ".py",
   "mimetype": "text/x-python",
   "name": "python",
   "nbconvert_exporter": "python",
   "pygments_lexer": "ipython3",
   "version": "3.9.7"
  },
  "orig_nbformat": 4,
  "vscode": {
   "interpreter": {
    "hash": "11938c6bc6919ae2720b4d5011047913343b08a43b18698fd82dedb0d4417594"
   }
  }
 },
 "nbformat": 4,
 "nbformat_minor": 2
}
